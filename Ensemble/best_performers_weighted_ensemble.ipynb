{
 "cells": [
  {
   "cell_type": "markdown",
   "metadata": {},
   "source": [
    "# Best Performers Weighted Ensemble\n",
    "\n",
    "This program combines the top two models: Resnet18 and Pretrained VGG16 based on the inverse of their performance multiclass log loss on their kaggle submission. Resnet18 received a kaggle score of 0.28200 and pretrained VGG16 recieved a score of 0.41719. These were are best performers so we decided to combine them in a weighted ensemble: This was our best performance on the kaggle submission and this weighted ensemble recieved a Kaggle score of 0.21775"
   ]
  },
  {
   "cell_type": "code",
   "execution_count": null,
   "metadata": {},
   "outputs": [
    {
     "name": "stderr",
     "output_type": "stream",
     "text": [
      "C:\\Users\\blake\\AppData\\Local\\Temp\\ipykernel_35744\\956094583.py:57: FutureWarning: You are using `torch.load` with `weights_only=False` (the current default value), which uses the default pickle module implicitly. It is possible to construct malicious pickle data which will execute arbitrary code during unpickling (See https://github.com/pytorch/pytorch/blob/main/SECURITY.md#untrusted-models for more details). In a future release, the default value for `weights_only` will be flipped to `True`. This limits the functions that could be executed during unpickling. Arbitrary objects will no longer be allowed to be loaded via this mode unless they are explicitly allowlisted by the user via `torch.serialization.add_safe_globals`. We recommend you start setting `weights_only=True` for any use case where you don't have full control of the loaded file. Please open an issue on GitHub for any issues related to this experimental feature.\n",
      "  model.load_state_dict(torch.load(path, map_location=device))\n",
      "Processing Batches: 100%|██████████| 1246/1246 [12:01<00:00,  1.73it/s]  "
     ]
    },
    {
     "name": "stdout",
     "output_type": "stream",
     "text": [
      "Submission file saved as best_performers_weighted_ensemble_submission.csv.\n"
     ]
    },
    {
     "name": "stderr",
     "output_type": "stream",
     "text": [
      "\n"
     ]
    }
   ],
   "source": [
    "import os\n",
    "import csv\n",
    "import torch\n",
    "from torchvision import transforms, models\n",
    "from PIL import Image\n",
    "from tqdm import tqdm\n",
    "import torch.nn as nn\n",
    "import numpy as np\n",
    "\n",
    "# Dataset Paths- Update with your paths\n",
    "test_dir = r'C:\\Users\\blake\\OneDrive\\Desktop\\MCS\\Artifical Neural Networks\\distracted-driving-behaviors\\state-farm-distracted-driver-detection\\imgs\\test'\n",
    "submission_file = \"best_performers_weighted_ensemble_submission.csv\"\n",
    "\n",
    "# Hyperparameters\n",
    "IMG_HEIGHT = 224\n",
    "IMG_WIDTH = 224\n",
    "BATCH_SIZE = 64\n",
    "NUM_CLASSES = 10\n",
    "device = torch.device(\"cuda\" if torch.cuda.is_available() else \"cpu\")\n",
    "\n",
    "# Transformations\n",
    "transform_test = transforms.Compose([\n",
    "    transforms.Resize((IMG_HEIGHT, IMG_WIDTH)),\n",
    "    transforms.ToTensor(),\n",
    "    transforms.Normalize([0.485, 0.456, 0.406], [0.229, 0.224, 0.225])  # ImageNet normalization\n",
    "])\n",
    "\n",
    "def get_resnet_model(num_classes):\n",
    "    model = models.resnet18(pretrained=False)\n",
    "    model.fc = nn.Linear(model.fc.in_features, num_classes)\n",
    "    return model\n",
    "\n",
    "def get_vgg_model(num_classes):\n",
    "    model = models.vgg16(pretrained=False)\n",
    "    model.classifier[6] = nn.Linear(model.classifier[6].in_features, num_classes)\n",
    "    return model\n",
    "\n",
    "# Model Paths and Scores\n",
    "# Model Paths- Update with your paths\n",
    "models_list = [\n",
    "    (\"ResNet18\", \"C:/Users/blake/OneDrive/Desktop/MCS/Artifical Neural Networks/distracted-driving-behaviors/Resnet/best_resnet_model.pth\", 0.28200),\n",
    "    (\"VGG16\", \"C:/Users/blake/OneDrive/Desktop/MCS/Artifical Neural Networks/distracted-driving-behaviors/Pretrained_VGG/best_vgg_model.pth\", 0.41719),\n",
    "]\n",
    "\n",
    "# Calculate Weights\n",
    "scores = np.array([1 / m[2] for m in models_list])\n",
    "weights = scores / scores.sum()\n",
    "\n",
    "# Map Model Names to Classes\n",
    "model_classes = {\n",
    "    \"ResNet18\": get_resnet_model(NUM_CLASSES),\n",
    "    \"VGG16\": get_vgg_model(NUM_CLASSES),\n",
    "}\n",
    "\n",
    "# Load Models\n",
    "for name, path, _ in models_list:\n",
    "    model = model_classes[name]\n",
    "    model.load_state_dict(torch.load(path, map_location=device))\n",
    "    model.to(device)\n",
    "    model.eval()\n",
    "    model_classes[name] = model\n",
    "\n",
    "# Test Image Loader\n",
    "class TestDataset(torch.utils.data.Dataset):\n",
    "    def __init__(self, image_paths, transform):\n",
    "        self.image_paths = image_paths\n",
    "        self.transform = transform\n",
    "\n",
    "    def __len__(self):\n",
    "        return len(self.image_paths)\n",
    "\n",
    "    def __getitem__(self, idx):\n",
    "        img_path = self.image_paths[idx]\n",
    "        image = Image.open(img_path).convert(\"RGB\")\n",
    "        image = self.transform(image)\n",
    "        return image, os.path.basename(img_path)\n",
    "\n",
    "test_image_paths = [os.path.join(test_dir, img) for img in os.listdir(test_dir) if img.endswith(\".jpg\")]\n",
    "test_dataset = TestDataset(test_image_paths, transform_test)\n",
    "test_loader = torch.utils.data.DataLoader(test_dataset, batch_size=BATCH_SIZE, shuffle=False)\n",
    "\n",
    "# Generate Weighted Ensemble Predictions\n",
    "with open(submission_file, \"w\", newline=\"\") as file:\n",
    "    writer = csv.writer(file)\n",
    "    writer.writerow([\"img\"] + [f\"c{i}\" for i in range(NUM_CLASSES)])\n",
    "\n",
    "    with torch.no_grad():\n",
    "        for images, img_names in tqdm(test_loader, desc=\"Processing Batches\"):\n",
    "            images = images.to(device)\n",
    "            ensemble_outputs = np.zeros((images.size(0), NUM_CLASSES))\n",
    "\n",
    "            for (name, _, _), weight in zip(models_list, weights):\n",
    "                model = model_classes[name]\n",
    "                outputs = model(images).softmax(dim=1).cpu().numpy()\n",
    "                ensemble_outputs += weight * outputs\n",
    "\n",
    "            # Normalize the probabilities to ensure they sum to 1\n",
    "            ensemble_outputs = np.clip(ensemble_outputs, 0, 1)  # Clamp values between 0 and 1\n",
    "            ensemble_outputs = ensemble_outputs / ensemble_outputs.sum(axis=1, keepdims=True)\n",
    "\n",
    "            for i, img_name in enumerate(img_names):\n",
    "                writer.writerow([img_name] + ensemble_outputs[i].tolist())\n",
    "\n",
    "\n",
    "print(f\"Submission file saved as {submission_file}.\")\n"
   ]
  }
 ],
 "metadata": {
  "kernelspec": {
   "display_name": "Python 3",
   "language": "python",
   "name": "python3"
  },
  "language_info": {
   "codemirror_mode": {
    "name": "ipython",
    "version": 3
   },
   "file_extension": ".py",
   "mimetype": "text/x-python",
   "name": "python",
   "nbconvert_exporter": "python",
   "pygments_lexer": "ipython3",
   "version": "3.12.0"
  }
 },
 "nbformat": 4,
 "nbformat_minor": 2
}
